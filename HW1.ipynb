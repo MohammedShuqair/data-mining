{
 "cells": [
  {
   "cell_type": "markdown",
   "id": "02c35f95-aeb8-41eb-b71b-d8a272ec18cd",
   "metadata": {
    "tags": []
   },
   "source": [
    "## Homework Assignment: Heart Failure Prediction Dataset Analysis and Exploratory Data Analysis (EDA)\n"
   ]
  },
  {
   "cell_type": "markdown",
   "id": "f3347d77-b86e-47db-b1d1-7fd31f1b0c78",
   "metadata": {},
   "source": [
    "Pandas is an important library in the Python for data analysis and manipulation. It provides ways to perform many tasks like: Reading and Writing Data, Data Cleaning, Data aggregation and grouping, Descriptive Statistics and more.\n",
    "\n",
    "Instead of typing pandas every time you want to use a function or class from the pandas library, you can simply use **pd** as an alias to make your code shorter and more readable.\n",
    "\n",
    "\n",
    "To learn more you can check this link [here](https://pandas.pydata.org/docs/user_guide/index.html#user-guide)\n",
    "\n"
   ]
  },
  {
   "cell_type": "code",
   "execution_count": 292,
   "id": "eae57d2d-df0a-4bc5-bda5-28f481e12679",
   "metadata": {
    "tags": []
   },
   "outputs": [],
   "source": [
    "import pandas as pd"
   ]
  },
  {
   "cell_type": "markdown",
   "id": "f0c658d9-f1ab-4c4a-be4d-ee8213f0aa87",
   "metadata": {},
   "source": [
    "**Matplotlib** is a widely used library in Python for creating static, animated, and interactive visualizations. \n",
    "\n",
    "**The pyplot module** within Matplotlib, often imported as **plt**, provides an interface for creating plots and charts by calling simple functions.\n",
    "\n",
    "To learn more you can check this link [here](https://matplotlib.org/stable/tutorials/index)"
   ]
  },
  {
   "cell_type": "code",
   "execution_count": 294,
   "id": "ada7b90d-2cd9-4720-a488-f2910d25b6f4",
   "metadata": {
    "tags": []
   },
   "outputs": [],
   "source": [
    "import matplotlib.pyplot as plt\n",
    "\n"
   ]
  },
  {
   "cell_type": "markdown",
   "id": "2e0fcc77-577e-4eb4-a2c1-c217c069333d",
   "metadata": {},
   "source": [
    "Import the mosaic function from the statsmodels library.\n",
    "\n",
    "We are not importing the whole library here."
   ]
  },
  {
   "cell_type": "code",
   "execution_count": 296,
   "id": "4f05e3bc-ba0d-420d-9506-76f062288aa9",
   "metadata": {
    "tags": []
   },
   "outputs": [],
   "source": [
    "from statsmodels.graphics.mosaicplot import mosaic"
   ]
  },
  {
   "cell_type": "markdown",
   "id": "ae03cfed-b698-46ef-9885-15f040633272",
   "metadata": {},
   "source": [
    "Read the CSV file (Comma Seperated Values) named heart.csv and store its contents in a DataFrame named df.\n",
    "\n",
    "You need to upload the heart.csv file to the jupytarlab from the \"Upload Files\" option in the side section.\n",
    "\n",
    "\n",
    "[Read_more](\n",
    "https://pandas.pydata.org/docs/reference/api/pandas.read_csv.html)"
   ]
  },
  {
   "cell_type": "code",
   "execution_count": 299,
   "id": "56f22120-d7df-487c-8fe5-2d0a18a41ca2",
   "metadata": {},
   "outputs": [],
   "source": [
    "#upload the dataset\n",
    "heart_disdease_df = pd.read_csv('heart.csv')\n"
   ]
  },
  {
   "cell_type": "code",
   "execution_count": 301,
   "id": "4614f6d1-5d69-4f35-8fbf-1d7a24b80ca8",
   "metadata": {
    "tags": []
   },
   "outputs": [
    {
     "data": {
      "text/html": [
       "<div>\n",
       "<style scoped>\n",
       "    .dataframe tbody tr th:only-of-type {\n",
       "        vertical-align: middle;\n",
       "    }\n",
       "\n",
       "    .dataframe tbody tr th {\n",
       "        vertical-align: top;\n",
       "    }\n",
       "\n",
       "    .dataframe thead th {\n",
       "        text-align: right;\n",
       "    }\n",
       "</style>\n",
       "<table border=\"1\" class=\"dataframe\">\n",
       "  <thead>\n",
       "    <tr style=\"text-align: right;\">\n",
       "      <th></th>\n",
       "      <th>Age</th>\n",
       "      <th>Sex</th>\n",
       "      <th>ChestPainType</th>\n",
       "      <th>RestingBP</th>\n",
       "      <th>Cholesterol</th>\n",
       "      <th>FastingBS</th>\n",
       "      <th>RestingECG</th>\n",
       "      <th>MaxHR</th>\n",
       "      <th>ExerciseAngina</th>\n",
       "      <th>Oldpeak</th>\n",
       "      <th>ST_Slope</th>\n",
       "      <th>HeartDisease</th>\n",
       "    </tr>\n",
       "  </thead>\n",
       "  <tbody>\n",
       "    <tr>\n",
       "      <th>0</th>\n",
       "      <td>40</td>\n",
       "      <td>M</td>\n",
       "      <td>ATA</td>\n",
       "      <td>140</td>\n",
       "      <td>289</td>\n",
       "      <td>0</td>\n",
       "      <td>Normal</td>\n",
       "      <td>172</td>\n",
       "      <td>N</td>\n",
       "      <td>0.0</td>\n",
       "      <td>Up</td>\n",
       "      <td>0</td>\n",
       "    </tr>\n",
       "    <tr>\n",
       "      <th>1</th>\n",
       "      <td>49</td>\n",
       "      <td>F</td>\n",
       "      <td>NAP</td>\n",
       "      <td>160</td>\n",
       "      <td>180</td>\n",
       "      <td>0</td>\n",
       "      <td>Normal</td>\n",
       "      <td>156</td>\n",
       "      <td>N</td>\n",
       "      <td>1.0</td>\n",
       "      <td>Flat</td>\n",
       "      <td>1</td>\n",
       "    </tr>\n",
       "    <tr>\n",
       "      <th>2</th>\n",
       "      <td>37</td>\n",
       "      <td>M</td>\n",
       "      <td>ATA</td>\n",
       "      <td>130</td>\n",
       "      <td>283</td>\n",
       "      <td>0</td>\n",
       "      <td>ST</td>\n",
       "      <td>98</td>\n",
       "      <td>N</td>\n",
       "      <td>0.0</td>\n",
       "      <td>Up</td>\n",
       "      <td>0</td>\n",
       "    </tr>\n",
       "    <tr>\n",
       "      <th>3</th>\n",
       "      <td>48</td>\n",
       "      <td>F</td>\n",
       "      <td>ASY</td>\n",
       "      <td>138</td>\n",
       "      <td>214</td>\n",
       "      <td>0</td>\n",
       "      <td>Normal</td>\n",
       "      <td>108</td>\n",
       "      <td>Y</td>\n",
       "      <td>1.5</td>\n",
       "      <td>Flat</td>\n",
       "      <td>1</td>\n",
       "    </tr>\n",
       "    <tr>\n",
       "      <th>4</th>\n",
       "      <td>54</td>\n",
       "      <td>M</td>\n",
       "      <td>NAP</td>\n",
       "      <td>150</td>\n",
       "      <td>195</td>\n",
       "      <td>0</td>\n",
       "      <td>Normal</td>\n",
       "      <td>122</td>\n",
       "      <td>N</td>\n",
       "      <td>0.0</td>\n",
       "      <td>Up</td>\n",
       "      <td>0</td>\n",
       "    </tr>\n",
       "  </tbody>\n",
       "</table>\n",
       "</div>"
      ],
      "text/plain": [
       "   Age Sex ChestPainType  RestingBP  Cholesterol  FastingBS RestingECG  MaxHR  \\\n",
       "0   40   M           ATA        140          289          0     Normal    172   \n",
       "1   49   F           NAP        160          180          0     Normal    156   \n",
       "2   37   M           ATA        130          283          0         ST     98   \n",
       "3   48   F           ASY        138          214          0     Normal    108   \n",
       "4   54   M           NAP        150          195          0     Normal    122   \n",
       "\n",
       "  ExerciseAngina  Oldpeak ST_Slope  HeartDisease  \n",
       "0              N      0.0       Up             0  \n",
       "1              N      1.0     Flat             1  \n",
       "2              N      0.0       Up             0  \n",
       "3              Y      1.5     Flat             1  \n",
       "4              N      0.0       Up             0  "
      ]
     },
     "execution_count": 301,
     "metadata": {},
     "output_type": "execute_result"
    }
   ],
   "source": [
    "# Display the first few rows of the dataset\n",
    "heart_disdease_df.head()"
   ]
  },
  {
   "cell_type": "code",
   "execution_count": 303,
   "id": "d0cc92f7-b94c-49df-8806-c2e4bbbe8903",
   "metadata": {
    "tags": []
   },
   "outputs": [
    {
     "data": {
      "text/html": [
       "<div>\n",
       "<style scoped>\n",
       "    .dataframe tbody tr th:only-of-type {\n",
       "        vertical-align: middle;\n",
       "    }\n",
       "\n",
       "    .dataframe tbody tr th {\n",
       "        vertical-align: top;\n",
       "    }\n",
       "\n",
       "    .dataframe thead th {\n",
       "        text-align: right;\n",
       "    }\n",
       "</style>\n",
       "<table border=\"1\" class=\"dataframe\">\n",
       "  <thead>\n",
       "    <tr style=\"text-align: right;\">\n",
       "      <th></th>\n",
       "      <th>Age</th>\n",
       "      <th>RestingBP</th>\n",
       "      <th>Cholesterol</th>\n",
       "      <th>FastingBS</th>\n",
       "      <th>MaxHR</th>\n",
       "      <th>Oldpeak</th>\n",
       "      <th>HeartDisease</th>\n",
       "    </tr>\n",
       "  </thead>\n",
       "  <tbody>\n",
       "    <tr>\n",
       "      <th>count</th>\n",
       "      <td>918.000000</td>\n",
       "      <td>918.000000</td>\n",
       "      <td>918.000000</td>\n",
       "      <td>918.000000</td>\n",
       "      <td>918.000000</td>\n",
       "      <td>918.000000</td>\n",
       "      <td>918.000000</td>\n",
       "    </tr>\n",
       "    <tr>\n",
       "      <th>mean</th>\n",
       "      <td>53.510893</td>\n",
       "      <td>132.396514</td>\n",
       "      <td>198.799564</td>\n",
       "      <td>0.233115</td>\n",
       "      <td>136.809368</td>\n",
       "      <td>0.887364</td>\n",
       "      <td>0.553377</td>\n",
       "    </tr>\n",
       "    <tr>\n",
       "      <th>std</th>\n",
       "      <td>9.432617</td>\n",
       "      <td>18.514154</td>\n",
       "      <td>109.384145</td>\n",
       "      <td>0.423046</td>\n",
       "      <td>25.460334</td>\n",
       "      <td>1.066570</td>\n",
       "      <td>0.497414</td>\n",
       "    </tr>\n",
       "    <tr>\n",
       "      <th>min</th>\n",
       "      <td>28.000000</td>\n",
       "      <td>0.000000</td>\n",
       "      <td>0.000000</td>\n",
       "      <td>0.000000</td>\n",
       "      <td>60.000000</td>\n",
       "      <td>-2.600000</td>\n",
       "      <td>0.000000</td>\n",
       "    </tr>\n",
       "    <tr>\n",
       "      <th>25%</th>\n",
       "      <td>47.000000</td>\n",
       "      <td>120.000000</td>\n",
       "      <td>173.250000</td>\n",
       "      <td>0.000000</td>\n",
       "      <td>120.000000</td>\n",
       "      <td>0.000000</td>\n",
       "      <td>0.000000</td>\n",
       "    </tr>\n",
       "    <tr>\n",
       "      <th>50%</th>\n",
       "      <td>54.000000</td>\n",
       "      <td>130.000000</td>\n",
       "      <td>223.000000</td>\n",
       "      <td>0.000000</td>\n",
       "      <td>138.000000</td>\n",
       "      <td>0.600000</td>\n",
       "      <td>1.000000</td>\n",
       "    </tr>\n",
       "    <tr>\n",
       "      <th>75%</th>\n",
       "      <td>60.000000</td>\n",
       "      <td>140.000000</td>\n",
       "      <td>267.000000</td>\n",
       "      <td>0.000000</td>\n",
       "      <td>156.000000</td>\n",
       "      <td>1.500000</td>\n",
       "      <td>1.000000</td>\n",
       "    </tr>\n",
       "    <tr>\n",
       "      <th>max</th>\n",
       "      <td>77.000000</td>\n",
       "      <td>200.000000</td>\n",
       "      <td>603.000000</td>\n",
       "      <td>1.000000</td>\n",
       "      <td>202.000000</td>\n",
       "      <td>6.200000</td>\n",
       "      <td>1.000000</td>\n",
       "    </tr>\n",
       "  </tbody>\n",
       "</table>\n",
       "</div>"
      ],
      "text/plain": [
       "              Age   RestingBP  Cholesterol   FastingBS       MaxHR  \\\n",
       "count  918.000000  918.000000   918.000000  918.000000  918.000000   \n",
       "mean    53.510893  132.396514   198.799564    0.233115  136.809368   \n",
       "std      9.432617   18.514154   109.384145    0.423046   25.460334   \n",
       "min     28.000000    0.000000     0.000000    0.000000   60.000000   \n",
       "25%     47.000000  120.000000   173.250000    0.000000  120.000000   \n",
       "50%     54.000000  130.000000   223.000000    0.000000  138.000000   \n",
       "75%     60.000000  140.000000   267.000000    0.000000  156.000000   \n",
       "max     77.000000  200.000000   603.000000    1.000000  202.000000   \n",
       "\n",
       "          Oldpeak  HeartDisease  \n",
       "count  918.000000    918.000000  \n",
       "mean     0.887364      0.553377  \n",
       "std      1.066570      0.497414  \n",
       "min     -2.600000      0.000000  \n",
       "25%      0.000000      0.000000  \n",
       "50%      0.600000      1.000000  \n",
       "75%      1.500000      1.000000  \n",
       "max      6.200000      1.000000  "
      ]
     },
     "execution_count": 303,
     "metadata": {},
     "output_type": "execute_result"
    }
   ],
   "source": [
    "# Generate descriptive statistics for the dataset \n",
    "heart_disdease_df.describe()"
   ]
  },
  {
   "cell_type": "code",
   "execution_count": 305,
   "id": "38d02ddf-ae24-4979-917f-bfd2c0d47dff",
   "metadata": {
    "tags": []
   },
   "outputs": [
    {
     "data": {
      "text/plain": [
       "0      40\n",
       "1      49\n",
       "2      37\n",
       "3      48\n",
       "4      54\n",
       "       ..\n",
       "913    45\n",
       "914    68\n",
       "915    57\n",
       "916    57\n",
       "917    38\n",
       "Name: Age, Length: 918, dtype: int64"
      ]
     },
     "execution_count": 305,
     "metadata": {},
     "output_type": "execute_result"
    }
   ],
   "source": [
    "#display 'Age' column\n",
    "heart_disdease_df['Age']"
   ]
  },
  {
   "cell_type": "code",
   "execution_count": 307,
   "id": "2340779c-3e3a-4aa3-8ab0-6b3030e6d7d6",
   "metadata": {
    "tags": []
   },
   "outputs": [
    {
     "data": {
      "text/plain": [
       "77"
      ]
     },
     "execution_count": 307,
     "metadata": {},
     "output_type": "execute_result"
    }
   ],
   "source": [
    "#Display the maximum value in 'Age' column\n",
    "heart_disdease_df['Age'].max()\n"
   ]
  },
  {
   "cell_type": "markdown",
   "id": "85cf8a57-d5a5-428d-9f5f-43dbfe99ebec",
   "metadata": {},
   "source": [
    "**Question:** find the minimum value for the Cholesterol column"
   ]
  },
  {
   "cell_type": "code",
   "execution_count": 317,
   "id": "264fcd1b-17b2-4b38-ac14-8b1f4929f13f",
   "metadata": {
    "tags": []
   },
   "outputs": [],
   "source": [
    "#write your code\n"
   ]
  },
  {
   "cell_type": "markdown",
   "id": "291b1def-9f0d-4a1c-8990-3ee6d93b5569",
   "metadata": {
    "tags": []
   },
   "source": [
    "### Value_counts"
   ]
  },
  {
   "cell_type": "markdown",
   "id": "217de3e3-6961-4757-81b5-fe9f0100b48c",
   "metadata": {},
   "source": [
    "This function counts the number of times each unique value appears in the specified column. It is usually used with Categorial Data.\n",
    "\n",
    "Read more about [value_counts](https://pandas.pydata.org/docs/reference/api/pandas.Series.value_counts.html)"
   ]
  },
  {
   "cell_type": "markdown",
   "id": "dc2b9800-0744-4659-af6c-52912ff120da",
   "metadata": {},
   "source": [
    "Count the occurrences of each unique value in the 'ChestPainType' column of the DataFrame heart_disease_df"
   ]
  },
  {
   "cell_type": "code",
   "execution_count": 322,
   "id": "66f0478d-c2b4-4897-bc7a-cc8cd0114894",
   "metadata": {
    "tags": []
   },
   "outputs": [
    {
     "data": {
      "text/plain": [
       "ASY    496\n",
       "NAP    203\n",
       "ATA    173\n",
       "TA      46\n",
       "Name: ChestPainType, dtype: int64"
      ]
     },
     "execution_count": 322,
     "metadata": {},
     "output_type": "execute_result"
    }
   ],
   "source": [
    "# Get the count of unique values in the 'ChestPainType' column\n",
    "heart_disdease_df['ChestPainType'].value_counts()\n"
   ]
  },
  {
   "cell_type": "markdown",
   "id": "137f5065-24db-407c-923e-20c74e77fb2b",
   "metadata": {},
   "source": [
    "**Question:** Choose a categorial feature and get its value counts"
   ]
  },
  {
   "cell_type": "code",
   "execution_count": 325,
   "id": "79788136-29ef-44c2-b6e9-0b6c3fe319a0",
   "metadata": {
    "tags": []
   },
   "outputs": [],
   "source": [
    "#write your code\n"
   ]
  },
  {
   "cell_type": "markdown",
   "id": "1054bf5e-2968-46f8-b465-d9702c50036f",
   "metadata": {},
   "source": [
    "**Question:** How many patients have heart disease (HeartDisease = 1) versus those who do not (HeartDisease = 0)?\n",
    "Hint: use value_counts"
   ]
  },
  {
   "cell_type": "code",
   "execution_count": 328,
   "id": "7022baa8-1ed0-4ecf-848f-481cf3230c3e",
   "metadata": {
    "tags": []
   },
   "outputs": [],
   "source": [
    "#write your code\n"
   ]
  },
  {
   "cell_type": "markdown",
   "id": "fbd48379-bb81-4081-9327-5d1d141c3126",
   "metadata": {
    "tags": []
   },
   "source": [
    "### Filtering"
   ]
  },
  {
   "cell_type": "markdown",
   "id": "9ed51786-f322-45cd-b425-31b84c986e8b",
   "metadata": {},
   "source": [
    "'HeartDisease' is the target column and it contain binar values(0, 1). \n",
    "HeartDisease = 1 means this patient has a heart disease.\n",
    "HeartDisease = 0 means this patient does not a heart disease."
   ]
  },
  {
   "cell_type": "markdown",
   "id": "a8cdbab2-7db4-43b1-b2f2-eb19e14a564e",
   "metadata": {},
   "source": [
    "heart_disease_df['HeartDisease'] == 1:\n",
    "\n",
    "\n",
    "This condition checks each row in the HeartDisease column to see if the value is 1.\n",
    "\n",
    "heart_disease_df[heart_disease_df['HeartDisease'] == 1] filters the heart_disease_df DataFrame by selecting only the rows where the HeartDisease column is equal to 1.\n",
    "\n",
    "The filtered DataFrame is assigned to a new variable with_heart_disease_df.\n",
    "\n",
    "[Read_more](https://pandas.pydata.org/docs/user_guide/indexing.html#boolean-indexing)\n",
    "\n",
    "You can also check [this youtube video](https://www.youtube.com/watch?v=wtlRLl0DVho&list=PLuRv1IekA3YVwzaWa2Kp7bgIVcJsJ5XGW&index=4)"
   ]
  },
  {
   "cell_type": "code",
   "execution_count": 333,
   "id": "fd4bfeec-9159-4ed4-b830-2da722a6977c",
   "metadata": {
    "tags": []
   },
   "outputs": [
    {
     "data": {
      "text/html": [
       "<div>\n",
       "<style scoped>\n",
       "    .dataframe tbody tr th:only-of-type {\n",
       "        vertical-align: middle;\n",
       "    }\n",
       "\n",
       "    .dataframe tbody tr th {\n",
       "        vertical-align: top;\n",
       "    }\n",
       "\n",
       "    .dataframe thead th {\n",
       "        text-align: right;\n",
       "    }\n",
       "</style>\n",
       "<table border=\"1\" class=\"dataframe\">\n",
       "  <thead>\n",
       "    <tr style=\"text-align: right;\">\n",
       "      <th></th>\n",
       "      <th>Age</th>\n",
       "      <th>Sex</th>\n",
       "      <th>ChestPainType</th>\n",
       "      <th>RestingBP</th>\n",
       "      <th>Cholesterol</th>\n",
       "      <th>FastingBS</th>\n",
       "      <th>RestingECG</th>\n",
       "      <th>MaxHR</th>\n",
       "      <th>ExerciseAngina</th>\n",
       "      <th>Oldpeak</th>\n",
       "      <th>ST_Slope</th>\n",
       "      <th>HeartDisease</th>\n",
       "    </tr>\n",
       "  </thead>\n",
       "  <tbody>\n",
       "    <tr>\n",
       "      <th>1</th>\n",
       "      <td>49</td>\n",
       "      <td>F</td>\n",
       "      <td>NAP</td>\n",
       "      <td>160</td>\n",
       "      <td>180</td>\n",
       "      <td>0</td>\n",
       "      <td>Normal</td>\n",
       "      <td>156</td>\n",
       "      <td>N</td>\n",
       "      <td>1.0</td>\n",
       "      <td>Flat</td>\n",
       "      <td>1</td>\n",
       "    </tr>\n",
       "    <tr>\n",
       "      <th>3</th>\n",
       "      <td>48</td>\n",
       "      <td>F</td>\n",
       "      <td>ASY</td>\n",
       "      <td>138</td>\n",
       "      <td>214</td>\n",
       "      <td>0</td>\n",
       "      <td>Normal</td>\n",
       "      <td>108</td>\n",
       "      <td>Y</td>\n",
       "      <td>1.5</td>\n",
       "      <td>Flat</td>\n",
       "      <td>1</td>\n",
       "    </tr>\n",
       "    <tr>\n",
       "      <th>8</th>\n",
       "      <td>37</td>\n",
       "      <td>M</td>\n",
       "      <td>ASY</td>\n",
       "      <td>140</td>\n",
       "      <td>207</td>\n",
       "      <td>0</td>\n",
       "      <td>Normal</td>\n",
       "      <td>130</td>\n",
       "      <td>Y</td>\n",
       "      <td>1.5</td>\n",
       "      <td>Flat</td>\n",
       "      <td>1</td>\n",
       "    </tr>\n",
       "    <tr>\n",
       "      <th>11</th>\n",
       "      <td>58</td>\n",
       "      <td>M</td>\n",
       "      <td>ATA</td>\n",
       "      <td>136</td>\n",
       "      <td>164</td>\n",
       "      <td>0</td>\n",
       "      <td>ST</td>\n",
       "      <td>99</td>\n",
       "      <td>Y</td>\n",
       "      <td>2.0</td>\n",
       "      <td>Flat</td>\n",
       "      <td>1</td>\n",
       "    </tr>\n",
       "    <tr>\n",
       "      <th>13</th>\n",
       "      <td>49</td>\n",
       "      <td>M</td>\n",
       "      <td>ASY</td>\n",
       "      <td>140</td>\n",
       "      <td>234</td>\n",
       "      <td>0</td>\n",
       "      <td>Normal</td>\n",
       "      <td>140</td>\n",
       "      <td>Y</td>\n",
       "      <td>1.0</td>\n",
       "      <td>Flat</td>\n",
       "      <td>1</td>\n",
       "    </tr>\n",
       "    <tr>\n",
       "      <th>...</th>\n",
       "      <td>...</td>\n",
       "      <td>...</td>\n",
       "      <td>...</td>\n",
       "      <td>...</td>\n",
       "      <td>...</td>\n",
       "      <td>...</td>\n",
       "      <td>...</td>\n",
       "      <td>...</td>\n",
       "      <td>...</td>\n",
       "      <td>...</td>\n",
       "      <td>...</td>\n",
       "      <td>...</td>\n",
       "    </tr>\n",
       "    <tr>\n",
       "      <th>912</th>\n",
       "      <td>57</td>\n",
       "      <td>F</td>\n",
       "      <td>ASY</td>\n",
       "      <td>140</td>\n",
       "      <td>241</td>\n",
       "      <td>0</td>\n",
       "      <td>Normal</td>\n",
       "      <td>123</td>\n",
       "      <td>Y</td>\n",
       "      <td>0.2</td>\n",
       "      <td>Flat</td>\n",
       "      <td>1</td>\n",
       "    </tr>\n",
       "    <tr>\n",
       "      <th>913</th>\n",
       "      <td>45</td>\n",
       "      <td>M</td>\n",
       "      <td>TA</td>\n",
       "      <td>110</td>\n",
       "      <td>264</td>\n",
       "      <td>0</td>\n",
       "      <td>Normal</td>\n",
       "      <td>132</td>\n",
       "      <td>N</td>\n",
       "      <td>1.2</td>\n",
       "      <td>Flat</td>\n",
       "      <td>1</td>\n",
       "    </tr>\n",
       "    <tr>\n",
       "      <th>914</th>\n",
       "      <td>68</td>\n",
       "      <td>M</td>\n",
       "      <td>ASY</td>\n",
       "      <td>144</td>\n",
       "      <td>193</td>\n",
       "      <td>1</td>\n",
       "      <td>Normal</td>\n",
       "      <td>141</td>\n",
       "      <td>N</td>\n",
       "      <td>3.4</td>\n",
       "      <td>Flat</td>\n",
       "      <td>1</td>\n",
       "    </tr>\n",
       "    <tr>\n",
       "      <th>915</th>\n",
       "      <td>57</td>\n",
       "      <td>M</td>\n",
       "      <td>ASY</td>\n",
       "      <td>130</td>\n",
       "      <td>131</td>\n",
       "      <td>0</td>\n",
       "      <td>Normal</td>\n",
       "      <td>115</td>\n",
       "      <td>Y</td>\n",
       "      <td>1.2</td>\n",
       "      <td>Flat</td>\n",
       "      <td>1</td>\n",
       "    </tr>\n",
       "    <tr>\n",
       "      <th>916</th>\n",
       "      <td>57</td>\n",
       "      <td>F</td>\n",
       "      <td>ATA</td>\n",
       "      <td>130</td>\n",
       "      <td>236</td>\n",
       "      <td>0</td>\n",
       "      <td>LVH</td>\n",
       "      <td>174</td>\n",
       "      <td>N</td>\n",
       "      <td>0.0</td>\n",
       "      <td>Flat</td>\n",
       "      <td>1</td>\n",
       "    </tr>\n",
       "  </tbody>\n",
       "</table>\n",
       "<p>508 rows × 12 columns</p>\n",
       "</div>"
      ],
      "text/plain": [
       "     Age Sex ChestPainType  RestingBP  Cholesterol  FastingBS RestingECG  \\\n",
       "1     49   F           NAP        160          180          0     Normal   \n",
       "3     48   F           ASY        138          214          0     Normal   \n",
       "8     37   M           ASY        140          207          0     Normal   \n",
       "11    58   M           ATA        136          164          0         ST   \n",
       "13    49   M           ASY        140          234          0     Normal   \n",
       "..   ...  ..           ...        ...          ...        ...        ...   \n",
       "912   57   F           ASY        140          241          0     Normal   \n",
       "913   45   M            TA        110          264          0     Normal   \n",
       "914   68   M           ASY        144          193          1     Normal   \n",
       "915   57   M           ASY        130          131          0     Normal   \n",
       "916   57   F           ATA        130          236          0        LVH   \n",
       "\n",
       "     MaxHR ExerciseAngina  Oldpeak ST_Slope  HeartDisease  \n",
       "1      156              N      1.0     Flat             1  \n",
       "3      108              Y      1.5     Flat             1  \n",
       "8      130              Y      1.5     Flat             1  \n",
       "11      99              Y      2.0     Flat             1  \n",
       "13     140              Y      1.0     Flat             1  \n",
       "..     ...            ...      ...      ...           ...  \n",
       "912    123              Y      0.2     Flat             1  \n",
       "913    132              N      1.2     Flat             1  \n",
       "914    141              N      3.4     Flat             1  \n",
       "915    115              Y      1.2     Flat             1  \n",
       "916    174              N      0.0     Flat             1  \n",
       "\n",
       "[508 rows x 12 columns]"
      ]
     },
     "execution_count": 333,
     "metadata": {},
     "output_type": "execute_result"
    }
   ],
   "source": [
    "# Filter the dataset to include only the rows where patients have heart disease (HeartDisease = 1)\n",
    "with_heart_disdease_df = heart_disdease_df[heart_disdease_df['HeartDisease'] == 1]\n",
    "# Display the filtered dataset containing only patients with heart disease\n",
    "with_heart_disdease_df"
   ]
  },
  {
   "cell_type": "markdown",
   "id": "82f2a293-aa33-4a74-bb22-5eaafb90f9d1",
   "metadata": {},
   "source": [
    "**Question:**\n",
    "Filter the dataset to include only male patients:"
   ]
  },
  {
   "cell_type": "code",
   "execution_count": 340,
   "id": "dd849602-94b8-4747-8d02-fe0e03d09d00",
   "metadata": {
    "tags": []
   },
   "outputs": [],
   "source": [
    "#continue the code\n",
    "\n",
    "male_df=\n"
   ]
  },
  {
   "cell_type": "code",
   "execution_count": 342,
   "id": "49e00cb0-ca3b-43e7-910d-7ae6468b43c4",
   "metadata": {
    "tags": []
   },
   "outputs": [
    {
     "data": {
      "text/plain": [
       "ASY    392\n",
       "NAP     72\n",
       "ATA     24\n",
       "TA      20\n",
       "Name: ChestPainType, dtype: int64"
      ]
     },
     "execution_count": 342,
     "metadata": {},
     "output_type": "execute_result"
    }
   ],
   "source": [
    "# Filter the dataset to include only the rows where patients have heart disease (HeartDisease = 1)\n",
    "has_heart_disease_df = heart_disdease_df[heart_disdease_df['HeartDisease'] == 1]\n",
    "\n",
    "\n",
    "# Calculate the count of each unique value in the 'ChestPainType' column \n",
    "# for the filtered dataset containing only patients with heart disease\n",
    "has_heart_disease_df['ChestPainType'].value_counts()\n"
   ]
  },
  {
   "cell_type": "markdown",
   "id": "30dc16cf-bfa8-4820-92e4-00f5e6743c24",
   "metadata": {
    "tags": []
   },
   "source": [
    "### Aggregation"
   ]
  },
  {
   "cell_type": "markdown",
   "id": "6a7a9aa5-1261-4e02-8451-81562bd7a372",
   "metadata": {},
   "source": [
    "**Aggregation** in pandas means computing a summary statistic about a group of data. This is typically done after grouping data using the **groupby** function. \n",
    "\n",
    "Aggregation produce a single result for each group, providing insights into the data.\n",
    "\n",
    "[Read_more](https://pandas.pydata.org/docs/reference/api/pandas.DataFrame.groupby.html)\n"
   ]
  },
  {
   "cell_type": "markdown",
   "id": "d0747938-f26d-4ff5-baaa-1c34a200663b",
   "metadata": {},
   "source": [
    "Group the data in the heart_disease_df DataFrame by the HeartDisease column and then calculate the mean age for each group.\n",
    "\n",
    "HearDisease Column has 2 distinct values 0,1 => then there are two groups of data. Clculate the mean age for the group of data with HearDisease==1 then calculate it with the group with HearDisease==0"
   ]
  },
  {
   "cell_type": "code",
   "execution_count": 347,
   "id": "920810a2-9bd9-4ff2-8a6f-3c9b6f9b0ba3",
   "metadata": {
    "tags": []
   },
   "outputs": [
    {
     "data": {
      "text/plain": [
       "HeartDisease\n",
       "0    50.551220\n",
       "1    55.899606\n",
       "Name: Age, dtype: float64"
      ]
     },
     "execution_count": 347,
     "metadata": {},
     "output_type": "execute_result"
    }
   ],
   "source": [
    "#Calculate the average age of patients with heart disease and those without.\n",
    "\n",
    "heart_disdease_df.groupby('HeartDisease')['Age'].mean()\n"
   ]
  },
  {
   "cell_type": "markdown",
   "id": "3446bc5d-29a5-4cac-b828-ce3914394ab1",
   "metadata": {},
   "source": [
    "**Insight** Mean age for people with heart disease > mean age for people with no heart disease"
   ]
  },
  {
   "cell_type": "markdown",
   "id": "e6e940fc-409e-4fbb-9903-ccbcdbfc3421",
   "metadata": {},
   "source": [
    "**Question:** Calculate the average resting blood pressure of male and female patients:"
   ]
  },
  {
   "cell_type": "code",
   "execution_count": 350,
   "id": "3bd71a15-e81d-4639-8662-6320f56fe20d",
   "metadata": {
    "tags": []
   },
   "outputs": [],
   "source": [
    "#write your code\n"
   ]
  },
  {
   "cell_type": "markdown",
   "id": "4fb56c2b-8bee-449f-9abf-db62de81b170",
   "metadata": {},
   "source": [
    "## Correlation"
   ]
  },
  {
   "cell_type": "markdown",
   "id": "a33cee20-0058-4ae3-ba6c-abda1c2c47b5",
   "metadata": {},
   "source": [
    "**Note:**\n",
    "\n",
    "**Positive Correlation:** Values closer to 1 indicate a strong positive linear relationship, meaning as one variable increases, the other also increases.\n",
    "\n",
    "**Negative Correlation:** Values closer to -1 indicate a strong negative linear relationship, meaning as one variable increases, the other decreases.\n",
    "\n",
    "\n",
    "**Zero Correlation:** A value close to 0 indicates no linear relationship between the variables."
   ]
  },
  {
   "cell_type": "markdown",
   "id": "64ea4d3e-0fb0-4aa4-8b46-b707bec604ca",
   "metadata": {},
   "source": [
    "What is the correlation between Age and MaxHR?"
   ]
  },
  {
   "cell_type": "code",
   "execution_count": 355,
   "id": "da6ddeb5-653f-46a5-b692-2f6de405ccea",
   "metadata": {
    "tags": []
   },
   "outputs": [
    {
     "data": {
      "text/plain": [
       "-0.38204467503197054"
      ]
     },
     "execution_count": 355,
     "metadata": {},
     "output_type": "execute_result"
    }
   ],
   "source": [
    "heart_disdease_df['Age'].corr(heart_disdease_df['MaxHR'])\n"
   ]
  },
  {
   "cell_type": "markdown",
   "id": "f16cb0a6-3fa8-4fce-b563-9681b3531338",
   "metadata": {},
   "source": [
    "It is a Negative Correlation, let's visualize it:"
   ]
  },
  {
   "cell_type": "code",
   "execution_count": 358,
   "id": "d954007b-4110-4b1b-a414-5bab39efcf9f",
   "metadata": {
    "tags": []
   },
   "outputs": [
    {
     "data": {
      "image/png": "[encoded data removed]",
      "text/plain": [
       "<Figure size 1000x600 with 1 Axes>"
      ]
     },
     "metadata": {},
     "output_type": "display_data"
    }
   ],
   "source": [
    "# Create a scatter plot for Age vs MaxHR\n",
    "plt.figure(figsize=(10, 6))\n",
    "plt.scatter(heart_disdease_df['Age'], heart_disdease_df['MaxHR'])\n",
    "\n",
    "# Add title and labels\n",
    "plt.title('Age vs MaxHR')\n",
    "plt.xlabel('Age')\n",
    "plt.ylabel('MaxHR')\n",
    "\n",
    "# Display the plot\n",
    "plt.show()"
   ]
  },
  {
   "cell_type": "markdown",
   "id": "1ab75d93-38fa-49b9-909c-367f0cad0bb2",
   "metadata": {
    "tags": []
   },
   "source": [
    "**Insight**\n",
    "\n",
    "As age increases, MaxHr dicreases\n",
    "\n",
    "Notice that, MaxHR is the maximum heart rate achieved.\n",
    "\n",
    "It makes sense!\n"
   ]
  },
  {
   "cell_type": "markdown",
   "id": "c7ac3483-120c-42ff-a281-c579567cc991",
   "metadata": {},
   "source": [
    "**Question:** What is the correlation between Age and RestingBP?"
   ]
  },
  {
   "cell_type": "markdown",
   "id": "5cd7bc9d-4761-412a-a586-b42d5317326d",
   "metadata": {},
   "source": [
    "**Side note:**\n",
    "\n",
    "Resting Blood Pressure (RestingBP) is the blood pressure in an individual's arteries when they are at rest."
   ]
  },
  {
   "cell_type": "code",
   "execution_count": 361,
   "id": "cafb2ed5-2c27-4ddd-bacf-e452764c3cad",
   "metadata": {
    "tags": []
   },
   "outputs": [],
   "source": [
    "#write your code\n"
   ]
  },
  {
   "cell_type": "markdown",
   "id": "9d88be4f-b9c9-4db5-8e30-2b0e8e09ee22",
   "metadata": {},
   "source": [
    "**Question:**\n",
    "\n",
    "Create a scatter plot for Age vs RestingBP "
   ]
  },
  {
   "cell_type": "code",
   "execution_count": 364,
   "id": "1f0247bf-0b89-47ff-ad23-aeb78dbf72b1",
   "metadata": {
    "tags": []
   },
   "outputs": [],
   "source": [
    "#write your code\n"
   ]
  },
  {
   "cell_type": "markdown",
   "id": "00aeb179-3ccc-4a5e-b7ff-4814955a0cce",
   "metadata": {
    "tags": []
   },
   "source": [
    "## BoxPlot"
   ]
  },
  {
   "cell_type": "markdown",
   "id": "baf3b9e2-3dc2-458a-ad66-fb02cc895775",
   "metadata": {},
   "source": [
    "#### comparing Ages for patients with and without heart disease"
   ]
  },
  {
   "cell_type": "code",
   "execution_count": 368,
   "id": "4ed0cce5-aada-4b8c-b1e7-71fef2172a24",
   "metadata": {
    "tags": []
   },
   "outputs": [
    {
     "data": {
      "image/png": "[encoded data removed]",
      "text/plain": [
       "<Figure size 1000x600 with 1 Axes>"
      ]
     },
     "metadata": {},
     "output_type": "display_data"
    }
   ],
   "source": [
    "# Create two dataframes: one for patients with heart disease and one for those without\n",
    "with_heart_disease_df = heart_disdease_df[heart_disdease_df['HeartDisease'] == 1]\n",
    "no_heart_disease_df = heart_disdease_df[heart_disdease_df['HeartDisease'] == 0]\n",
    "\n",
    "# Create a figure with a specified size\n",
    "plt.figure(figsize=(10, 6))\n",
    "\n",
    "# Create a boxplot comparing the Ages for patients with and without heart disease\n",
    "plt.boxplot([no_heart_disease_df['Age'], with_heart_disease_df['Age']], \n",
    "            labels=['No Heart Disease', 'Heart Disease'])\n",
    "\n",
    "# Add a title to the plot\n",
    "plt.title('Boxplot for Age by Heart Disease')\n",
    "\n",
    "# Add a label to the x-axis\n",
    "plt.xlabel('Heart Disease')\n",
    "\n",
    "# Add a label to the y-axis\n",
    "plt.ylabel('Age')\n",
    "\n",
    "# Display the plot\n",
    "plt.show()\n"
   ]
  },
  {
   "cell_type": "markdown",
   "id": "e2bd73dd-90cf-4302-adcb-b3519d7234fc",
   "metadata": {},
   "source": [
    "**Insight**\n",
    "\n",
    "We can see that patients with heart disease tend to be older, on average, and that there are some younger outliers in the heart disease group."
   ]
  },
  {
   "cell_type": "markdown",
   "id": "ff62b7e8-480d-4f86-be60-9de2945449e1",
   "metadata": {
    "tags": []
   },
   "source": [
    "**Question** \n",
    "\n",
    "Compare MaxHR levels for patients with and without heart disease"
   ]
  },
  {
   "cell_type": "code",
   "execution_count": 371,
   "id": "ae3cd406-90a3-410e-8eac-707cbf31aa81",
   "metadata": {
    "tags": []
   },
   "outputs": [],
   "source": [
    "#write your code\n"
   ]
  },
  {
   "cell_type": "markdown",
   "id": "ebdc87d9-e86e-4b1e-aed0-4b91aaf95ea0",
   "metadata": {
    "tags": []
   },
   "source": [
    "**Question** \n",
    "\n",
    "\n",
    "Create a boxplot comparing the age levels for male and female patients"
   ]
  },
  {
   "cell_type": "code",
   "execution_count": 374,
   "id": "041ee811-a892-40a7-9fca-e03e364ff781",
   "metadata": {
    "tags": []
   },
   "outputs": [],
   "source": [
    "#write your code\n"
   ]
  },
  {
   "cell_type": "markdown",
   "id": "e4c1c0aa-c09d-45bb-acc6-eeac01b7de22",
   "metadata": {},
   "source": [
    "## Histogram"
   ]
  },
  {
   "cell_type": "code",
   "execution_count": 377,
   "id": "b4375d8d-f552-4f9c-b3b7-64aad3c03ed2",
   "metadata": {
    "tags": []
   },
   "outputs": [
    {
     "data": {
      "image/png": "[encoded data removed]",
      "text/plain": [
       "<Figure size 1000x600 with 1 Axes>"
      ]
     },
     "metadata": {},
     "output_type": "display_data"
    }
   ],
   "source": [
    "# Create a histogram for the Age feature\n",
    "# Set the size of the figure to be 10 inches wide and 6 inches tall\n",
    "plt.figure(figsize=(10, 6))\n",
    "\n",
    "# Plot the histogram for the 'Age' column with 30 bins, black edges, and 70% transparency\n",
    "plt.hist(heart_disdease_df['Age'], bins=30, edgecolor='k', alpha=0.7)\n",
    "\n",
    "# Add a title to the plot\n",
    "plt.title('Histogram of Age')\n",
    "\n",
    "# Label the x-axis as 'Age'\n",
    "plt.xlabel('Age')\n",
    "\n",
    "# Label the y-axis as 'Frequency'\n",
    "plt.ylabel('Frequency')\n",
    "\n",
    "# Display the plot\n",
    "plt.show()\n"
   ]
  },
  {
   "cell_type": "markdown",
   "id": "230042b9-760b-4ca5-873e-ed87a08a84ee",
   "metadata": {},
   "source": [
    "Let's try to change bins to 10"
   ]
  },
  {
   "cell_type": "code",
   "execution_count": 419,
   "id": "238ad1bc-b41d-4481-b5b5-34714ae6919c",
   "metadata": {
    "tags": []
   },
   "outputs": [
    {
     "data": {
      "image/png": "[encoded data removed]",
      "text/plain": [
       "<Figure size 1000x600 with 1 Axes>"
      ]
     },
     "metadata": {},
     "output_type": "display_data"
    }
   ],
   "source": [
    "# Create a histogram for the Age feature\n",
    "# Set the size of the figure to be 10 inches wide and 6 inches tall\n",
    "plt.figure(figsize=(10, 6))\n",
    "\n",
    "# Plot the histogram for the 'Age' column with 30 bins, black edges, and 70% transparency\n",
    "plt.hist(heart_disdease_df['Age'], bins=10, edgecolor='k', alpha=0.7)\n",
    "\n",
    "# Add a title to the plot\n",
    "plt.title('Histogram of Age')\n",
    "\n",
    "# Label the x-axis as 'Age'\n",
    "plt.xlabel('Age')\n",
    "\n",
    "# Label the y-axis as 'Frequency'\n",
    "plt.ylabel('Frequency')\n",
    "\n",
    "# Display the plot\n",
    "plt.show()"
   ]
  },
  {
   "cell_type": "markdown",
   "id": "76beac9d-9a79-4143-ab33-b4c7fc96d5e5",
   "metadata": {},
   "source": [
    "**Insight**\n",
    "\n",
    "The peak frequencies occur around the ages of 50 to 60, indicating that these age groups are the most common in the dataset.\n",
    "\n",
    "The ages in the dataset range from about 30 to around 75 years.\n",
    "\n",
    "The histogram shows a roughly normal (bell-shaped) distribution of ages with a slight skew towards older ages."
   ]
  },
  {
   "cell_type": "markdown",
   "id": "a6139ed8-4ea5-44ca-99c2-9ae895d9f0e6",
   "metadata": {},
   "source": [
    "**Question** \n",
    "\n",
    "\n",
    " Create a histogram for the Cholesterol feature"
   ]
  },
  {
   "cell_type": "code",
   "execution_count": 380,
   "id": "0c2c0db4-a7ee-44e2-a67a-f6f278dd47af",
   "metadata": {
    "tags": []
   },
   "outputs": [],
   "source": [
    "#write your code\n"
   ]
  },
  {
   "cell_type": "markdown",
   "id": "b213687f-0502-44c7-93d4-f665cb9e9e15",
   "metadata": {},
   "source": [
    "## Density Plot"
   ]
  },
  {
   "cell_type": "code",
   "execution_count": 383,
   "id": "20759c4d-c7a5-46d3-a8b9-96baae2d4e49",
   "metadata": {
    "tags": []
   },
   "outputs": [
    {
     "data": {
      "text/plain": [
       "array(['Up', 'Flat', 'Down'], dtype=object)"
      ]
     },
     "execution_count": 383,
     "metadata": {},
     "output_type": "execute_result"
    }
   ],
   "source": [
    "#Step By Step\n",
    "\n",
    "# List of unique ST_Slope types\n",
    "st_slope_types = heart_disdease_df['ST_Slope'].unique()\n",
    "\n",
    "#Display unique ST_Slope types\n",
    "\n",
    "st_slope_types"
   ]
  },
  {
   "cell_type": "code",
   "execution_count": 385,
   "id": "14c28151-5a7a-4f1f-a3a9-e8fea5b8217a",
   "metadata": {
    "tags": []
   },
   "outputs": [
    {
     "data": {
      "text/html": [
       "<div>\n",
       "<style scoped>\n",
       "    .dataframe tbody tr th:only-of-type {\n",
       "        vertical-align: middle;\n",
       "    }\n",
       "\n",
       "    .dataframe tbody tr th {\n",
       "        vertical-align: top;\n",
       "    }\n",
       "\n",
       "    .dataframe thead th {\n",
       "        text-align: right;\n",
       "    }\n",
       "</style>\n",
       "<table border=\"1\" class=\"dataframe\">\n",
       "  <thead>\n",
       "    <tr style=\"text-align: right;\">\n",
       "      <th></th>\n",
       "      <th>Age</th>\n",
       "      <th>Sex</th>\n",
       "      <th>ChestPainType</th>\n",
       "      <th>RestingBP</th>\n",
       "      <th>Cholesterol</th>\n",
       "      <th>FastingBS</th>\n",
       "      <th>RestingECG</th>\n",
       "      <th>MaxHR</th>\n",
       "      <th>ExerciseAngina</th>\n",
       "      <th>Oldpeak</th>\n",
       "      <th>ST_Slope</th>\n",
       "      <th>HeartDisease</th>\n",
       "    </tr>\n",
       "  </thead>\n",
       "  <tbody>\n",
       "    <tr>\n",
       "      <th>0</th>\n",
       "      <td>40</td>\n",
       "      <td>M</td>\n",
       "      <td>ATA</td>\n",
       "      <td>140</td>\n",
       "      <td>289</td>\n",
       "      <td>0</td>\n",
       "      <td>Normal</td>\n",
       "      <td>172</td>\n",
       "      <td>N</td>\n",
       "      <td>0.0</td>\n",
       "      <td>Up</td>\n",
       "      <td>0</td>\n",
       "    </tr>\n",
       "    <tr>\n",
       "      <th>2</th>\n",
       "      <td>37</td>\n",
       "      <td>M</td>\n",
       "      <td>ATA</td>\n",
       "      <td>130</td>\n",
       "      <td>283</td>\n",
       "      <td>0</td>\n",
       "      <td>ST</td>\n",
       "      <td>98</td>\n",
       "      <td>N</td>\n",
       "      <td>0.0</td>\n",
       "      <td>Up</td>\n",
       "      <td>0</td>\n",
       "    </tr>\n",
       "    <tr>\n",
       "      <th>4</th>\n",
       "      <td>54</td>\n",
       "      <td>M</td>\n",
       "      <td>NAP</td>\n",
       "      <td>150</td>\n",
       "      <td>195</td>\n",
       "      <td>0</td>\n",
       "      <td>Normal</td>\n",
       "      <td>122</td>\n",
       "      <td>N</td>\n",
       "      <td>0.0</td>\n",
       "      <td>Up</td>\n",
       "      <td>0</td>\n",
       "    </tr>\n",
       "    <tr>\n",
       "      <th>5</th>\n",
       "      <td>39</td>\n",
       "      <td>M</td>\n",
       "      <td>NAP</td>\n",
       "      <td>120</td>\n",
       "      <td>339</td>\n",
       "      <td>0</td>\n",
       "      <td>Normal</td>\n",
       "      <td>170</td>\n",
       "      <td>N</td>\n",
       "      <td>0.0</td>\n",
       "      <td>Up</td>\n",
       "      <td>0</td>\n",
       "    </tr>\n",
       "    <tr>\n",
       "      <th>6</th>\n",
       "      <td>45</td>\n",
       "      <td>F</td>\n",
       "      <td>ATA</td>\n",
       "      <td>130</td>\n",
       "      <td>237</td>\n",
       "      <td>0</td>\n",
       "      <td>Normal</td>\n",
       "      <td>170</td>\n",
       "      <td>N</td>\n",
       "      <td>0.0</td>\n",
       "      <td>Up</td>\n",
       "      <td>0</td>\n",
       "    </tr>\n",
       "    <tr>\n",
       "      <th>...</th>\n",
       "      <td>...</td>\n",
       "      <td>...</td>\n",
       "      <td>...</td>\n",
       "      <td>...</td>\n",
       "      <td>...</td>\n",
       "      <td>...</td>\n",
       "      <td>...</td>\n",
       "      <td>...</td>\n",
       "      <td>...</td>\n",
       "      <td>...</td>\n",
       "      <td>...</td>\n",
       "      <td>...</td>\n",
       "    </tr>\n",
       "    <tr>\n",
       "      <th>903</th>\n",
       "      <td>56</td>\n",
       "      <td>M</td>\n",
       "      <td>ATA</td>\n",
       "      <td>130</td>\n",
       "      <td>221</td>\n",
       "      <td>0</td>\n",
       "      <td>LVH</td>\n",
       "      <td>163</td>\n",
       "      <td>N</td>\n",
       "      <td>0.0</td>\n",
       "      <td>Up</td>\n",
       "      <td>0</td>\n",
       "    </tr>\n",
       "    <tr>\n",
       "      <th>906</th>\n",
       "      <td>55</td>\n",
       "      <td>F</td>\n",
       "      <td>ATA</td>\n",
       "      <td>132</td>\n",
       "      <td>342</td>\n",
       "      <td>0</td>\n",
       "      <td>Normal</td>\n",
       "      <td>166</td>\n",
       "      <td>N</td>\n",
       "      <td>1.2</td>\n",
       "      <td>Up</td>\n",
       "      <td>0</td>\n",
       "    </tr>\n",
       "    <tr>\n",
       "      <th>908</th>\n",
       "      <td>63</td>\n",
       "      <td>M</td>\n",
       "      <td>ASY</td>\n",
       "      <td>140</td>\n",
       "      <td>187</td>\n",
       "      <td>0</td>\n",
       "      <td>LVH</td>\n",
       "      <td>144</td>\n",
       "      <td>Y</td>\n",
       "      <td>4.0</td>\n",
       "      <td>Up</td>\n",
       "      <td>1</td>\n",
       "    </tr>\n",
       "    <tr>\n",
       "      <th>910</th>\n",
       "      <td>41</td>\n",
       "      <td>M</td>\n",
       "      <td>ATA</td>\n",
       "      <td>120</td>\n",
       "      <td>157</td>\n",
       "      <td>0</td>\n",
       "      <td>Normal</td>\n",
       "      <td>182</td>\n",
       "      <td>N</td>\n",
       "      <td>0.0</td>\n",
       "      <td>Up</td>\n",
       "      <td>0</td>\n",
       "    </tr>\n",
       "    <tr>\n",
       "      <th>917</th>\n",
       "      <td>38</td>\n",
       "      <td>M</td>\n",
       "      <td>NAP</td>\n",
       "      <td>138</td>\n",
       "      <td>175</td>\n",
       "      <td>0</td>\n",
       "      <td>Normal</td>\n",
       "      <td>173</td>\n",
       "      <td>N</td>\n",
       "      <td>0.0</td>\n",
       "      <td>Up</td>\n",
       "      <td>0</td>\n",
       "    </tr>\n",
       "  </tbody>\n",
       "</table>\n",
       "<p>395 rows × 12 columns</p>\n",
       "</div>"
      ],
      "text/plain": [
       "     Age Sex ChestPainType  RestingBP  Cholesterol  FastingBS RestingECG  \\\n",
       "0     40   M           ATA        140          289          0     Normal   \n",
       "2     37   M           ATA        130          283          0         ST   \n",
       "4     54   M           NAP        150          195          0     Normal   \n",
       "5     39   M           NAP        120          339          0     Normal   \n",
       "6     45   F           ATA        130          237          0     Normal   \n",
       "..   ...  ..           ...        ...          ...        ...        ...   \n",
       "903   56   M           ATA        130          221          0        LVH   \n",
       "906   55   F           ATA        132          342          0     Normal   \n",
       "908   63   M           ASY        140          187          0        LVH   \n",
       "910   41   M           ATA        120          157          0     Normal   \n",
       "917   38   M           NAP        138          175          0     Normal   \n",
       "\n",
       "     MaxHR ExerciseAngina  Oldpeak ST_Slope  HeartDisease  \n",
       "0      172              N      0.0       Up             0  \n",
       "2       98              N      0.0       Up             0  \n",
       "4      122              N      0.0       Up             0  \n",
       "5      170              N      0.0       Up             0  \n",
       "6      170              N      0.0       Up             0  \n",
       "..     ...            ...      ...      ...           ...  \n",
       "903    163              N      0.0       Up             0  \n",
       "906    166              N      1.2       Up             0  \n",
       "908    144              Y      4.0       Up             1  \n",
       "910    182              N      0.0       Up             0  \n",
       "917    173              N      0.0       Up             0  \n",
       "\n",
       "[395 rows x 12 columns]"
      ]
     },
     "execution_count": 385,
     "metadata": {},
     "output_type": "execute_result"
    }
   ],
   "source": [
    "#display the dataset that includes only the rows where the ST_Slope is 'Up'\n",
    "heart_disdease_df[heart_disdease_df['ST_Slope'] == 'Up']"
   ]
  },
  {
   "cell_type": "code",
   "execution_count": 387,
   "id": "e6d9de32-f103-46b2-95ad-aec67406f3e9",
   "metadata": {
    "tags": []
   },
   "outputs": [
    {
     "data": {
      "text/plain": [
       "0      40\n",
       "2      37\n",
       "4      54\n",
       "5      39\n",
       "6      45\n",
       "       ..\n",
       "903    56\n",
       "906    55\n",
       "908    63\n",
       "910    41\n",
       "917    38\n",
       "Name: Age, Length: 395, dtype: int64"
      ]
     },
     "execution_count": 387,
     "metadata": {},
     "output_type": "execute_result"
    }
   ],
   "source": [
    "#display age column from the dataset that includes only the rows where the ST_Slope is 'Up'\n",
    "heart_disdease_df[heart_disdease_df['ST_Slope'] == 'Up']['Age']"
   ]
  },
  {
   "cell_type": "markdown",
   "id": "fe9a0615-db9a-4ff7-91f9-7fd69b4fbd3f",
   "metadata": {},
   "source": [
    "#### density for Age by ST_Slope type 'Up'"
   ]
  },
  {
   "cell_type": "code",
   "execution_count": 390,
   "id": "ba64ec7b-be51-4478-8225-5932a50c3b3f",
   "metadata": {
    "tags": []
   },
   "outputs": [
    {
     "data": {
      "image/png": "[encoded data removed]",
      "text/plain": [
       "<Figure size 1200x800 with 1 Axes>"
      ]
     },
     "metadata": {},
     "output_type": "display_data"
    }
   ],
   "source": [
    "# Create a figure for density plots\n",
    "plt.figure(figsize=(12, 8))\n",
    "\n",
    "# Plot the density for Age by ST_Slope type 'Up'\n",
    "heart_disdease_df[heart_disdease_df['ST_Slope'] == 'Up']['Age'].plot(kind='density', alpha=0.7, label='Up')\n",
    "\n",
    "# Add title and labels\n",
    "plt.title('Density Plot of Age for Different ST Slope Types')\n",
    "plt.xlabel('Age')\n",
    "plt.ylabel('Density')\n",
    "\n",
    "# Add a legend\n",
    "plt.legend(title='ST Slope Type')\n",
    "\n",
    "# Display the plot\n",
    "plt.show()"
   ]
  },
  {
   "cell_type": "markdown",
   "id": "22dfcefc-35dd-46f8-bdc5-34da457622a9",
   "metadata": {
    "tags": []
   },
   "source": [
    "#### density for Age by the three types of ST_Slope"
   ]
  },
  {
   "cell_type": "code",
   "execution_count": 393,
   "id": "aa2160e4-8a8a-44b2-a69d-da427680115e",
   "metadata": {
    "tags": []
   },
   "outputs": [
    {
     "data": {
      "image/png": "[encoded data removed]",
      "text/plain": [
       "<Figure size 1200x800 with 1 Axes>"
      ]
     },
     "metadata": {},
     "output_type": "display_data"
    }
   ],
   "source": [
    "# Create a figure for density plots\n",
    "plt.figure(figsize=(12, 8))\n",
    "\n",
    "# Plot the density for Age by ST_Slope type 'Up'\n",
    "heart_disdease_df[heart_disdease_df['ST_Slope'] == 'Up']['Age'].plot(kind='density', alpha=0.7, label='Up')\n",
    "\n",
    "# Plot the density for Age by ST_Slope type 'Flat'\n",
    "heart_disdease_df[heart_disdease_df['ST_Slope'] == 'Flat']['Age'].plot(kind='density', alpha=0.7, label='Flat')\n",
    "\n",
    "# Plot the density for Age by ST_Slope type 'Down'\n",
    "heart_disdease_df[heart_disdease_df['ST_Slope'] == 'Down']['Age'].plot(kind='density', alpha=0.7, label='Down')\n",
    "\n",
    "# Add title and labels\n",
    "plt.title('Density Plot of Age for Different ST Slope Types')\n",
    "plt.xlabel('Age')\n",
    "plt.ylabel('Density')\n",
    "\n",
    "# Add a legend\n",
    "plt.legend(title='ST Slope Type')\n",
    "\n",
    "# Display the plot\n",
    "plt.show()"
   ]
  },
  {
   "cell_type": "markdown",
   "id": "89ecb4f4-ffe1-4e60-bcf7-9db9b094de1e",
   "metadata": {},
   "source": [
    "**Insight**\n",
    "\n",
    "ST_Slope type correlates with age. Younger patients are more likely to have an ST_Slope of \"Up\", while older patients tend to have an ST_Slope of \"Down\"."
   ]
  },
  {
   "cell_type": "markdown",
   "id": "79fd3927-c8c8-46b7-8ded-7ae32f66359f",
   "metadata": {},
   "source": [
    "### Now it is your turn!"
   ]
  },
  {
   "cell_type": "markdown",
   "id": "861c61bb-a4ad-4690-b49a-8905e5af947f",
   "metadata": {
    "tags": []
   },
   "source": [
    "**Question**\n",
    "\n",
    " List the unique types of ChestPainType"
   ]
  },
  {
   "cell_type": "code",
   "execution_count": 397,
   "id": "4f168da0-b6a7-481d-8660-4be558dd6820",
   "metadata": {
    "tags": []
   },
   "outputs": [],
   "source": [
    "#write your code\n",
    "\n"
   ]
  },
  {
   "cell_type": "markdown",
   "id": "5f3250ad-9efb-4293-a65c-378f49af0940",
   "metadata": {},
   "source": [
    "**Question** \n",
    "\n",
    "Display the dataset that includes only the rows where the ChestPainType is 'ATA'\n"
   ]
  },
  {
   "cell_type": "code",
   "execution_count": 400,
   "id": "77dcadef-70b5-49d9-8523-6e2ad281eee4",
   "metadata": {
    "tags": []
   },
   "outputs": [],
   "source": [
    "#Write your code\n",
    "\n"
   ]
  },
  {
   "cell_type": "markdown",
   "id": "616ef640-c231-443d-a37c-15fb1c02f046",
   "metadata": {},
   "source": [
    "**Question** \n",
    "\n",
    "Display the age column of the dataset that includes only the rows where the ChestPainType is 'ATA'\n"
   ]
  },
  {
   "cell_type": "code",
   "execution_count": 403,
   "id": "cba3145d-2b89-4b13-b22d-bc56193f6081",
   "metadata": {
    "tags": []
   },
   "outputs": [],
   "source": [
    "#Write your code\n",
    "\n"
   ]
  },
  {
   "cell_type": "markdown",
   "id": "1bb85b47-ab14-4b9f-9027-f1ddb679026f",
   "metadata": {},
   "source": [
    " **Question** \n",
    " \n",
    " Plot the density for Age by ChestPainType"
   ]
  },
  {
   "cell_type": "code",
   "execution_count": 406,
   "id": "fc559525-5338-4fbb-9921-9c1fcc3c499f",
   "metadata": {
    "tags": []
   },
   "outputs": [],
   "source": [
    "#Write your code\n",
    "\n"
   ]
  },
  {
   "cell_type": "markdown",
   "id": "d8a7b4d4-9211-4ba6-8c2d-6f6a1d81e9f6",
   "metadata": {},
   "source": [
    "## Mosaic Plot"
   ]
  },
  {
   "cell_type": "markdown",
   "id": "191f29be-43b2-4117-8eeb-9836a7b5c7c3",
   "metadata": {},
   "source": [
    "#### The mosaic plot between HeartDisease and ST_Slope\n"
   ]
  },
  {
   "cell_type": "code",
   "execution_count": 410,
   "id": "5f937dc0-5ebf-4fb6-86cf-c6a92519da23",
   "metadata": {
    "tags": []
   },
   "outputs": [
    {
     "data": {
      "text/plain": [
       "<Figure size 1200x800 with 0 Axes>"
      ]
     },
     "metadata": {},
     "output_type": "display_data"
    },
    {
     "data": {
      "image/png": "[encoded data removed]",
      "text/plain": [
       "<Figure size 640x480 with 3 Axes>"
      ]
     },
     "metadata": {},
     "output_type": "display_data"
    }
   ],
   "source": [
    "# Prepare data for the mosaic plot\n",
    "data = heart_disdease_df[['ST_Slope', 'HeartDisease']]\n",
    "\n",
    "# Create the mosaic plot\n",
    "plt.figure(figsize=(12, 8))\n",
    "mosaic(data, ['ST_Slope', 'HeartDisease'], title='Mosaic Plot: ST Slope vs Heart Disease')\n",
    "\n",
    "# Display the plot\n",
    "plt.show()"
   ]
  },
  {
   "cell_type": "markdown",
   "id": "a370591d-c681-4f0b-9da2-e693fb23f0f7",
   "metadata": {},
   "source": [
    "**Insight**\n",
    "\n",
    "In our dataset, the majority of Patients with a \"Flat\" and \"Down\" ST slope have heart disease.\n",
    "The majority of patients with an \"Up\" ST slope do not have heart disease."
   ]
  },
  {
   "cell_type": "markdown",
   "id": "eedbe0ab-b341-4e65-9d99-cf1d164caafa",
   "metadata": {},
   "source": [
    "**Question** create mosaic plot between HeartDisease and ExerciseAngina "
   ]
  },
  {
   "cell_type": "code",
   "execution_count": 415,
   "id": "53f46e9c-6669-4f0c-a74d-30a4b981c094",
   "metadata": {
    "tags": []
   },
   "outputs": [],
   "source": [
    "#write your code\n",
    "\n"
   ]
  }
 ],
 "metadata": {
  "kernelspec": {
   "display_name": "Python 3 (ipykernel)",
   "language": "python",
   "name": "python3"
  },
  "language_info": {
   "codemirror_mode": {
    "name": "ipython",
    "version": 3
   },
   "file_extension": ".py",
   "mimetype": "text/x-python",
   "name": "python",
   "nbconvert_exporter": "python",
   "pygments_lexer": "ipython3",
   "version": "3.11.7"
  }
 },
 "nbformat": 4,
 "nbformat_minor": 5
}
